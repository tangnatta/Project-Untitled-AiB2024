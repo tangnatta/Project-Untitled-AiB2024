{
 "cells": [
  {
   "cell_type": "code",
   "execution_count": 36,
   "metadata": {},
   "outputs": [],
   "source": [
    "from catboost import CatBoostClassifier, Pool\n",
    "import streamlit as st\n",
    "from streamlit_geolocation import streamlit_geolocation\n",
    "import pandas as pd\n",
    "import numpy as np\n",
    "import geopandas as gpd\n",
    "import matplotlib.pyplot as plt\n",
    "import shapely\n",
    "\n",
    "LATLONG_CRS = \"EPSG:4326\"\n",
    "\n",
    "FEATURE_SOIL_GROUP = ['grp_properties_upper_organic', 'grp_properties_upper_N', 'grp_properties_upper_P', 'grp_properties_upper_K', 'grp_properties_lower_organic', 'grp_properties_lower_N',\n",
    "                      'grp_properties_lower_P', 'grp_properties_lower_K', 'grp_properties_upper_pH_upper', 'grp_properties_upper_pH_lower', 'grp_properties_lower_pH_upper',\n",
    "                      'grp_properties_lower_pH_lower', 'grp_awc_min', 'grp_awc_max', 'grp_awc_avg']\n",
    "\n",
    "X_FEATURE = ['grp_properties_upper_organic',\n",
    "             'grp_properties_upper_N', 'grp_properties_upper_P',\n",
    "             'grp_properties_upper_K', 'grp_properties_lower_organic',\n",
    "             'grp_properties_lower_N', 'grp_properties_lower_P',\n",
    "             'grp_properties_lower_K', 'grp_properties_upper_pH_upper',\n",
    "             'grp_properties_upper_pH_lower', 'grp_properties_lower_pH_upper',\n",
    "             'grp_properties_lower_pH_lower', 'grp_awc_min', 'grp_awc_max',\n",
    "             'grp_awc_avg']\n",
    "\n",
    "#! load soil data\n",
    "soil_CH_gdf = gpd.read_file(\n",
    "    \".\\\\Soil_Chon Buri\\\\Soil_Chon Buri\\\\Soil_Chon Buri.shp\", encoding=\"tis-620\")\n",
    "soil_CH_gdf.to_crs(crs=LATLONG_CRS, inplace=True)\n",
    "\n",
    "soil_CHS_gdf = gpd.read_file(\n",
    "    \".\\\\Soil_Chachoengsao\\\\Soil_Chachoengsao\\\\Soil_Chachoengsao.shp\", encoding=\"tis-620\")\n",
    "soil_CHS_gdf.to_crs(crs=LATLONG_CRS, inplace=True)\n",
    "\n",
    "soil_JB_gdf = gpd.read_file(\n",
    "    \".\\\\Soil_Chanthaburi\\\\Soil_Chanthaburi\\\\Soil_จ.จันทบุรี.shp\", encoding=\"tis-620\")\n",
    "soil_JB_gdf.to_crs(crs=LATLONG_CRS, inplace=True)\n",
    "\n",
    "soil_RY_gdf = gpd.read_file(\n",
    "    \".\\\\Soil_Rayong\\\\Soil_Rayong\\\\Soil_จ.ระยอง.shp\", encoding=\"tis-620\")\n",
    "soil_RY_gdf.to_crs(crs=LATLONG_CRS, inplace=True)\n",
    "\n",
    "soil_gdf = gpd.GeoDataFrame(pd.concat(\n",
    "    [soil_CH_gdf, soil_CHS_gdf, soil_RY_gdf, soil_JB_gdf], ignore_index=True), geometry=\"geometry\")\n",
    "\n",
    "soil_grp_df = pd.read_parquet('soil_group_data.parquet').fillna(0)\n",
    "soil_grp_df[FEATURE_SOIL_GROUP] = soil_grp_df[FEATURE_SOIL_GROUP].map(\n",
    "    lambda x: 0 if x == -1 else x)\n",
    "\n",
    "del soil_CH_gdf, soil_CHS_gdf, soil_JB_gdf, soil_RY_gdf\n",
    "\n",
    "# #! load landuse data\n",
    "# landuse_CH_gdf = gpd.read_file(\n",
    "#     \".\\\\Landuse_Chon Buri_2564\\\\Landuse_Chon Buri_2564\\\\Landuse_Chon Buri_2564.shp\", encoding='tis-620')\n",
    "# landuse_CH_gdf.to_crs(crs=LATLONG_CRS, inplace=True)\n",
    "\n",
    "# landuse_CHS_gdf = gpd.read_file(\n",
    "#     \".\\\\Landuse_Chachoengsao_2561\\\\Landuse_Chachoengsao_2561\\\\Landuse_ฉะเชิงเทรา_2561.shp\", encoding=\"tis-620\")\n",
    "# landuse_CHS_gdf.to_crs(crs=LATLONG_CRS, inplace=True)\n",
    "\n",
    "# landuse_JB_gdf = gpd.read_file(\n",
    "#     \".\\\\Landuse_Chanthaburi_2561\\\\Landuse_Chanthaburi_2561\\\\Landuse_จันทบุรี_2561.shp\", encoding=\"tis-620\")\n",
    "# landuse_JB_gdf.to_crs(crs=LATLONG_CRS, inplace=True)\n",
    "\n",
    "# landuse_RY_gdf = gpd.read_file(\n",
    "#     \".\\\\Landuse_Rayong_2561\\\\Landuse_Rayong_2561\\\\LU_ระยอง_2561.shp\", encoding=\"tis-620\")\n",
    "# landuse_RY_gdf.to_crs(crs=LATLONG_CRS, inplace=True)\n",
    "\n",
    "# landuse_gdf = gpd.GeoDataFrame(pd.concat(\n",
    "#     [landuse_CH_gdf, landuse_CHS_gdf, landuse_RY_gdf, landuse_JB_gdf], ignore_index=True), geometry=\"geometry\")\n",
    "\n",
    "#! Load catboost model\n",
    "model = CatBoostClassifier()\n",
    "model.load_model(\"lastest_cat_boost_model.cbm\")\n",
    "\n",
    "soil_ids_search = []\n",
    "soil_ids_search_grp_id = []\n",
    "\n",
    "for idx, i in enumerate(soil_grp_df['soil_series_id'].to_list()):\n",
    "    soil_ids_search += [j.lower() for j in i]\n",
    "    soil_ids_search_grp_id += [idx+1]*len(i)\n",
    "\n",
    "def find_soil_group_data(soil_series_id):\n",
    "    # ex soil_series_id = 48\n",
    "    soil_series_id = str(soil_series_id).strip()\n",
    "    if soil_series_id[0].isnumeric():\n",
    "        return soil_series_id[:2]\n",
    "    try:\n",
    "        return soil_ids_search_grp_id[soil_ids_search.index(soil_series_id.lower())]\n",
    "    except:\n",
    "        return 61\n",
    "\n",
    "\n",
    "# def get_soil_group_data(grp_ids):\n",
    "#     # arr = [0 * len(FEATURE_SOIL_GROUP)]\n",
    "#     arr = []\n",
    "#     if len(grp_ids.split(',')) > 1:\n",
    "#         grp_ids = [find_soil_group_data(i) for i in grp_ids.split(',')]\n",
    "#         grp_id = grp_ids[0]\n",
    "#         # for i in grp_ids:\n",
    "#         #     soil_grp_df.loc[soil_grp_df['grp_id'] == i][FEATURE_SOIL_GROUP]\n",
    "#     else:\n",
    "#         grp_id = find_soil_group_data(grp_ids)\n",
    "#     # print(grp_id)\n",
    "#     return soil_grp_df[soil_grp_df['grp_id'] == int(grp_id)][FEATURE_SOIL_GROUP].values[0]"
   ]
  },
  {
   "cell_type": "code",
   "execution_count": 48,
   "metadata": {},
   "outputs": [],
   "source": [
    "soil_gdf.to_parquet('./soil_gdf.parquet', compression='gzip')"
   ]
  },
  {
   "cell_type": "code",
   "execution_count": 43,
   "metadata": {},
   "outputs": [],
   "source": [
    "soil_gdf.to_file(\"./test/soil_gdf.shp\")"
   ]
  },
  {
   "cell_type": "code",
   "execution_count": 37,
   "metadata": {},
   "outputs": [],
   "source": [
    "def predict(lat, lon):\n",
    "    #! Find soil group\n",
    "    point = shapely.geometry.Point(lon, lat)\n",
    "    soil_grp = soil_gdf[soil_gdf.contains(point)].iloc[0]['soilgroup']\n",
    "\n",
    "    soil_grp = find_soil_group_data(soil_grp)\n",
    "\n",
    "    #! Find soil group data\n",
    "    soil_grp_data = soil_grp_df[soil_grp_df['grp_id'] == soil_grp]\n",
    "\n",
    "    #! Predict\n",
    "    soil_grp_data = soil_grp_data[FEATURE_SOIL_GROUP]\n",
    "    soil_grp_data = soil_grp_data.to_numpy().reshape(1, -1)\n",
    "    result = model.predict(soil_grp_data)\n",
    "    # result = \"test\"\n",
    "\n",
    "    return result"
   ]
  },
  {
   "cell_type": "code",
   "execution_count": 38,
   "metadata": {},
   "outputs": [],
   "source": [
    "lat = 13.361389\n",
    "lon = 100.984722\n",
    "\n",
    "point = shapely.geometry.Point(lon, lat)\n",
    "soil_grp = soil_gdf[soil_gdf.contains(point)].iloc[0]['soilgroup']\n",
    "\n",
    "soil_grp = find_soil_group_data(soil_grp)\n",
    "\n",
    "#! Find soil group data\n",
    "soil_grp_data = soil_grp_df[soil_grp_df['grp_id'] == soil_grp]\n",
    "\n",
    "#! Predict\n",
    "soil_grp_data = soil_grp_data[FEATURE_SOIL_GROUP]\n",
    "soil_grp_data = soil_grp_data.to_numpy().reshape(1, -1)\n",
    "result = model.predict(soil_grp_data)"
   ]
  },
  {
   "cell_type": "code",
   "execution_count": 39,
   "metadata": {},
   "outputs": [
    {
     "data": {
      "text/plain": [
       "array([[1.3, 0.065, 1.5, 141.0, 1.1, 0.05500000000000001, 1.2, 161.4,\n",
       "        7.0, 5.5, 6.5, 5.0, 0, 0, 0]], dtype=object)"
      ]
     },
     "execution_count": 39,
     "metadata": {},
     "output_type": "execute_result"
    }
   ],
   "source": [
    "soil_grp_data"
   ]
  },
  {
   "cell_type": "code",
   "execution_count": 40,
   "metadata": {},
   "outputs": [
    {
     "data": {
      "text/plain": [
       "FID_Soil25                                                 1004\n",
       "soilgroup                                                     U\n",
       "fertility                                                     -\n",
       "texture_to                                                 None\n",
       "soilserien                                         ที่อยู่อาศัย\n",
       "pH_top                                                     None\n",
       "soilseries                                                    U\n",
       "FID_wgs84_                                                   30\n",
       "AMPHOE_IDN                                                 2001\n",
       "AMP_CODE                                                     01\n",
       "AMPHOE_T                                          อ.เมืองชลบุรี\n",
       "AMPHOE_E                                  Amphoe Muang Chonburi\n",
       "PROV_CODE                                                    20\n",
       "PROV_NAM_T                                             จ.ชลบุรี\n",
       "PROV_NAM_E                                    Changwat Chonburi\n",
       "P_CODE                                                       CH\n",
       "geometry      MULTIPOLYGON Z (((101.00568269291733 13.453914...\n",
       "Name: 221, dtype: object"
      ]
     },
     "execution_count": 40,
     "metadata": {},
     "output_type": "execute_result"
    }
   ],
   "source": [
    "soil_gdf[soil_gdf.contains(point)].iloc[0]"
   ]
  },
  {
   "cell_type": "code",
   "execution_count": 41,
   "metadata": {},
   "outputs": [
    {
     "data": {
      "text/plain": [
       "array([[0, 1, 0, 0]])"
      ]
     },
     "execution_count": 41,
     "metadata": {},
     "output_type": "execute_result"
    }
   ],
   "source": [
    "predict(13.361389, 100.984722)"
   ]
  },
  {
   "cell_type": "code",
   "execution_count": null,
   "metadata": {},
   "outputs": [],
   "source": []
  }
 ],
 "metadata": {
  "kernelspec": {
   "display_name": "AiB-env",
   "language": "python",
   "name": "python3"
  },
  "language_info": {
   "codemirror_mode": {
    "name": "ipython",
    "version": 3
   },
   "file_extension": ".py",
   "mimetype": "text/x-python",
   "name": "python",
   "nbconvert_exporter": "python",
   "pygments_lexer": "ipython3",
   "version": "3.11.4"
  }
 },
 "nbformat": 4,
 "nbformat_minor": 2
}
